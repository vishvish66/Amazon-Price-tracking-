{
  "nbformat": 4,
  "nbformat_minor": 0,
  "metadata": {
    "colab": {
      "name": "Amazon check list.ipynb",
      "provenance": [],
      "collapsed_sections": [],
      "authorship_tag": "ABX9TyO5yPh6BdeqnQfsLuj2kxWm",
      "include_colab_link": true
    },
    "kernelspec": {
      "name": "python3",
      "display_name": "Python 3"
    },
    "accelerator": "TPU"
  },
  "cells": [
    {
      "cell_type": "markdown",
      "metadata": {
        "id": "view-in-github",
        "colab_type": "text"
      },
      "source": [
        "<a href=\"https://colab.research.google.com/github/vishvish66/Amazon-Price-tracking-/blob/master/Amazon_check_list.ipynb\" target=\"_parent\"><img src=\"https://colab.research.google.com/assets/colab-badge.svg\" alt=\"Open In Colab\"/></a>"
      ]
    },
    {
      "cell_type": "code",
      "metadata": {
        "id": "yMA0QySHFk7G",
        "colab_type": "code",
        "colab": {}
      },
      "source": [
        "!pip install requests\n",
        "!pip install bs4\n",
        "\n",
        "#requests is python HTTP Lib which u can use to send req.\n",
        "import requests\n",
        "#bs4 is scrapping lib\n",
        "from bs4 import BeautifulSoup\n",
        "#smtplib is protocol client by suing this you can send mail \n",
        "import smtplib\n",
        "\n",
        "URL = 'https://www.amazon.in/Apple-iPhone-Pro-Max-256GB/dp/B07XVLH744/ref=sr_1_1_sspa?crid=2VCKZNOH3H6SR&keywords=apple+iphone+11+pro+max&qid=1582043410&sprefix=apple+iphone%2Caps%2C388&sr=8-1-spons&psc=1&spLa=ZW5jcnlwdGVkUXVhbGlmaWVyPUEyVjdZSE83TzU4UUMmZW5jcnlwdGVkSWQ9QTAyNTI1ODZJUzZOVUwxWDNIUlAmZW5jcnlwdGVkQWRJZD1BMDkxNDg4MzFLMFpVT1M5OFM5Q0smd2lkZ2V0TmFtZT1zcF9hdGYmYWN0aW9uPWNsaWNrUmVkaXJlY3QmZG9Ob3RMb2dDbGljaz10cnVl'\n",
        "\n",
        "headers = {\n",
        "    \"User-Agent\": 'Mozilla/5.0 (X11; CrOS x86_64 12607.82.0) AppleWebKit/537.36 (KHTML, like Gecko) Chrome/79.0.3945.123 Safari/537.36'}\n",
        "\n",
        "def check_price():  #we,ve defined funcion which can check price of the product from URL\n",
        "\n",
        "    page = requests.get(URL, headers=headers)\n",
        "\n",
        "    soup = BeautifulSoup(page.content, 'html.parser')\n",
        "\n",
        "    print(soup.prettify()) \n",
        "\n",
        "    title = soup.find(id = \"productTitle\")\n",
        "    if title:\n",
        "        title = title.get_text()\n",
        "    else:\n",
        "        title = \"default_title\"\n",
        "\n",
        "    price = soup.find(id = \"priceblock_ourprice\")\n",
        "    if price:\n",
        "        price = price.get_text()\n",
        "    else:\n",
        "        price = \"default_price\"    \n",
        "\n",
        "    converted_price = price[0:10]\n",
        "\n",
        "    if(converted_price == 1,20,900):\n",
        "        send_mail()\n",
        "\n",
        "    print(converted_price)\n",
        "    print(title)\n",
        "    \n",
        "    if (converted_price == 1,20,900):\n",
        "        send_mail()\n",
        "\n",
        "def send_mail():  #this function will perfom sending email process from this script\n",
        "    server = smtplib.SMTP('smtp.gmail.com',587)\n",
        "    server.ehlo()\n",
        "    server.starttls()\n",
        "    server.ehlo()\n",
        "\n",
        "    server.login(\"Enter your email over here\",\"secret password gmail which will give you access to send email without menually login\")\n",
        "    subject = \"Check out the NEW PRICE of the iphone 11 pro max\"\n",
        "    body = \"Check this link dudeeee https://www.amazon.in/Apple-iPhone-Pro-Max-256GB/dp/B07XVLH744/ref=sr_1_1_sspa?crid=2VCKZNOH3H6SR&keywords=apple+iphone+11+pro+max&qid=1582043410&sprefix=apple+iphone%2Caps%2C388&sr=8-1-spons&psc=1&spLa=ZW5jcnlwdGVkUXVhbGlmaWVyPUEyVjdZSE83TzU4UUMmZW5jcnlwdGVkSWQ9QTAyNTI1ODZJUzZOVUwxWDNIUlAmZW5jcnlwdGVkQWRJZD1BMDkxNDg4MzFLMFpVT1M5OFM5Q0smd2lkZ2V0TmFtZT1zcF9hdGYmYWN0aW9uPWNsaWNrUmVkaXJlY3QmZG9Ob3RMb2dDbGljaz10cnVl\"\n",
        "    \n",
        "    msg = f\"Subject: {subject}\\n\\n{body}\"\n",
        "    \n",
        "    server.sendmail(\"enter email which you want to send mail from\",\"enter email where you want to recive mail\", msg)\n",
        "   \n",
        "    print(\"YOO DUDE EMAIL HAS BEEN SENT!\")\n",
        "\n",
        "    server.quit()\n",
        "\n",
        "check_price()\n",
        "\n"
      ],
      "execution_count": 0,
      "outputs": []
    }
  ]
}